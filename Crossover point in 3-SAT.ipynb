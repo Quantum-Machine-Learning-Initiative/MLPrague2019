{
 "cells": [
  {
   "cell_type": "markdown",
   "metadata": {},
   "source": [
    "### Boolean satisfiability problem\n",
    "\n",
    "Any Booolean function can be represented in conjunctive normal form, that is, a conjunction of clauses, which are disjuntions of 3 literals:\n",
    "\n",
    "$$\n",
    "f(x) = (\\neg{x_1} \\vee x_3 \\vee x_6) \\wedge (x_2 \\vee \\neg{x_4} \\vee x_5) \\wedge \\dots\n",
    "$$\n",
    "\n",
    "The 3-satisfiability problem (3-SAT) is as follows: given a Boolean function $f$ in conjunctive normal form, is there any input $x$ such that $f(x) = 1$?\n",
    "\n",
    "This problem is NP-complete, i.e. any problem in class NP can be reduced to 3-SAT. For any $k>3$, k-SAT can be reduced to 3-SAT, but 2-SAT is solvable in polynomial time."
   ]
  },
  {
   "cell_type": "code",
   "execution_count": 48,
   "metadata": {},
   "outputs": [],
   "source": [
    "import numpy as np\n",
    "import pycosat\n",
    "import matplotlib.pyplot as plt"
   ]
  },
  {
   "cell_type": "code",
   "execution_count": 59,
   "metadata": {},
   "outputs": [],
   "source": [
    "def random_clause(num_variables, k=3):\n",
    "    '''Generate a random clause for k-SAT. Returns a list of three\n",
    "    integers\n",
    "    '''\n",
    "    clause = np.random.choice(num_variables, k, replace=False) + 1\n",
    "    clause = [int(c * ((-1)**np.random.randint(2))) for c in clause]\n",
    "    return clause\n",
    "\n",
    "def random_SAT_instance(num_variables, num_clauses, k=3):\n",
    "    '''\n",
    "    Generate a random instance of K-SAT\n",
    "    '''\n",
    "    return [random_clause(num_variables, k) for i in range(num_clauses)]\n",
    "\n",
    "def is_satisfiable(instance):\n",
    "    '''Decide if a SAT instance is satisfiable'''\n",
    "    answer = pycosat.solve(instance)\n",
    "    if type(answer) is list:\n",
    "        return True\n",
    "    elif answer == 'UNSAT':\n",
    "        return False\n",
    "    elif answer == 'UNKNOWN':\n",
    "        return None"
   ]
  },
  {
   "cell_type": "markdown",
   "metadata": {},
   "source": [
    "Let us consider a random SAT instance with $C$ clauses and $V$ variables (the code above allows duplicate clauses, but for large $C, V$ that is insignificant). Then the $C/V$ ratio is an \"order parameter\" for the problem: below a certain threshold, random instances almost always end up satisfiable, and above it -- almost always unsatisfiable."
   ]
  },
  {
   "cell_type": "code",
   "execution_count": 86,
   "metadata": {},
   "outputs": [],
   "source": [
    "def get_sat_ratio(n_variables, n_clauses, n_samples, k=3):\n",
    "    '''Solve n_samples random instances and \n",
    "    return the portion of the satisfiable ones'''\n",
    "    results_total = []\n",
    "    for i in range(n_samples):\n",
    "        instance = random_SAT_instance(n_variables, n_clauses, k=k)\n",
    "        result = is_satisfiable(instance)\n",
    "        results_total.append(result)\n",
    "    #print('{} undecided instances'.format(results_total.count(None)))\n",
    "    return results_total.count(True) / n_samples"
   ]
  },
  {
   "cell_type": "code",
   "execution_count": 93,
   "metadata": {},
   "outputs": [],
   "source": [
    "n_variables = 10\n",
    "n_samples = 30\n",
    "clause_densities = [0.5 * i for i in range(15)]\n",
    "sat_ratios = []\n",
    "for density in clause_densities:\n",
    "    n_clauses = int(n_variables* density)\n",
    "    sat_ratios.append(get_sat_ratio(n_variables, n_clauses, n_samples, k=3))"
   ]
  },
  {
   "cell_type": "code",
   "execution_count": 94,
   "metadata": {},
   "outputs": [
    {
     "data": {
      "image/png": "[encoded data removed]",
      "text/plain": [
       "<Figure size 432x288 with 1 Axes>"
      ]
     },
     "metadata": {
      "needs_background": "light"
     },
     "output_type": "display_data"
    }
   ],
   "source": [
    "plt.scatter(clause_densities, sat_ratios)\n",
    "plt.xlabel('clause density')\n",
    "plt.ylabel('P(SAT)')\n",
    "plt.show()"
   ]
  },
  {
   "cell_type": "code",
   "execution_count": null,
   "metadata": {},
   "outputs": [],
   "source": []
  },
  {
   "cell_type": "code",
   "execution_count": null,
   "metadata": {},
   "outputs": [],
   "source": []
  }
 ],
 "metadata": {
  "kernelspec": {
   "display_name": "myenv",
   "language": "python",
   "name": "myenv"
  },
  "language_info": {
   "codemirror_mode": {
    "name": "ipython",
    "version": 3
   },
   "file_extension": ".py",
   "mimetype": "text/x-python",
   "name": "python",
   "nbconvert_exporter": "python",
   "pygments_lexer": "ipython3",
   "version": "3.6.6"
  }
 },
 "nbformat": 4,
 "nbformat_minor": 2
}
