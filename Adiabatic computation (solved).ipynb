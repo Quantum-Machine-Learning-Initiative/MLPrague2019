{
 "cells": [
  {
   "cell_type": "markdown",
   "metadata": {},
   "source": [
    "## Adiabatic quantum computing"
   ]
  },
  {
   "cell_type": "markdown",
   "metadata": {},
   "source": [
    "Suppose we need to find the ground state of a Hamiltonian $H_1$ that we can prepare. To do that, we first prepare the Hamiltonian $H_0$, then slowly change it into the target Hamitlonian. Adiabatic theorem states that under these conditions the system remains in the ground state. \n",
    "\n",
    "More specifically, the time-dependent Hamiltonian we will consider in this example is the following:\n",
    "\n",
    "$$\n",
    "H(t) = (1 - s(t))H_0 + s(t) H_1,\n",
    "$$\n",
    "\n",
    "where $s(t)$ depends on our strategy of adiabatic change. In the adiabatic theorem, \"slowly\" means with respect to the energy scale of the Hamiltonian. That is, if the gap is small, we should change the parameter slowly, if the gap is large, we can get away with changing it faster.\n",
    "\n",
    "The overall evolution of the quantum state is governed by Schrödinger equation:\n",
    "\n",
    "$$\n",
    "\\frac{d \\psi(t)}{dt} = -i H(t) \\psi(t),\n",
    "$$\n",
    "where $\\psi$ is the state vector.\n",
    "\n",
    "In this example, the target Hamiltonians will be the Ising model and the Hamiltonians created by embedding 3-SAT instances."
   ]
  },
  {
   "cell_type": "code",
   "execution_count": 1,
   "metadata": {},
   "outputs": [],
   "source": [
    "import numpy as np\n",
    "import scipy.linalg as SPLA\n",
    "from scipy.integrate import solve_ivp\n",
    "from functools import reduce\n",
    "import matplotlib.pyplot as plt\n",
    "from collections import deque"
   ]
  },
  {
   "cell_type": "markdown",
   "metadata": {},
   "source": [
    "### Define the initial and target Hamiltonians"
   ]
  },
  {
   "cell_type": "code",
   "execution_count": 2,
   "metadata": {},
   "outputs": [],
   "source": [
    "X = np.array([[0, 1], [1, 0]], dtype=np.complex64)\n",
    "Y = np.array([[0, -1j], [1j, 0]])\n",
    "Z = np.diag([1, -1])\n",
    "I = np.eye(2)"
   ]
  },
  {
   "cell_type": "markdown",
   "metadata": {},
   "source": [
    "#### Ising model\n",
    "\n",
    "The Ising model with transverse field is a Hamiltonian that is known to have an entangled ground state at nonzero field:\n",
    "\n",
    "$$\n",
    "H = J \\sum Z_i Z_{i+1} + h \\sum X_i.\n",
    "$$\n",
    "\n",
    "We assume that the boundary conditions are periodic."
   ]
  },
  {
   "cell_type": "code",
   "execution_count": 3,
   "metadata": {},
   "outputs": [],
   "source": [
    "def ising_model(n_spins, J, hx):\n",
    "    '''Ising model with transverse field. Returns a dictionary'''\n",
    "    ham = {}\n",
    "    line = 'Z' + 'Z' + 'I' * (n_spins - 2)\n",
    "    for i in range(n_spins):\n",
    "        term = line[-i:] + line[:-i]\n",
    "        ham[term] = J\n",
    "    line = 'X' + 'I' * (n_spins - 1)\n",
    "    if hx != 0:\n",
    "        for i in range(n_spins):\n",
    "            term = line[-i:] + line[:-i]\n",
    "            ham[term] = hx\n",
    "    return ham\n",
    "\n",
    "def explicit_hamiltonian(ham_dict):\n",
    "    '''Transform a Hamiltonian stored as a dictionary \n",
    "    to an explicit matrix'''\n",
    "    n_qubits = len(list(ham_dict.keys())[0])\n",
    "    I = np.eye(2)\n",
    "    X = np.array([[0, 1], [1, 0]])\n",
    "    Y = np.array([[0, -1j], [1j, 0]])\n",
    "    Z = np.diag([1, -1])\n",
    "    pauli={}\n",
    "    pauli['I'] = I\n",
    "    pauli['X'] = X\n",
    "    pauli['Y'] = Y\n",
    "    pauli['Z'] = Z\n",
    "    H = np.zeros((2**n_qubits, 2**n_qubits), dtype='complex128')\n",
    "    for term, energy in ham_dict.items():\n",
    "        matrices=[]\n",
    "        for sym in term:\n",
    "            matrices.append(pauli[sym])\n",
    "        total_mat = energy * reduce(np.kron, matrices)\n",
    "        H +=total_mat\n",
    "    return H"
   ]
  },
  {
   "cell_type": "markdown",
   "metadata": {},
   "source": [
    "#### SAT embedding\n",
    "\n",
    "Any instance of K-SAT problem can be embedded in a Hamiltonian. Each clause adds a term that penalizes all states in computational basis that violate this clause. The question of \"Is this Boolean expression satisfiable?\" turns into \"Does this Hamiltonian have the ground state energy of zero or $\\geq 1$, promised that one of these is the case?\""
   ]
  },
  {
   "cell_type": "code",
   "execution_count": 4,
   "metadata": {},
   "outputs": [],
   "source": [
    "def random_clause(num_variables, k=3):\n",
    "    '''Generate a random clause for k-SAT. Returns a list of three\n",
    "    integers\n",
    "    '''\n",
    "    clause = np.random.choice(num_variables, k, replace=False) + 1\n",
    "    clause = [c * ((-1)**np.random.randint(2)) for c in clause]\n",
    "    return clause\n",
    "\n",
    "def random_SAT_instance(num_variables, num_clauses, k=3):\n",
    "    '''\n",
    "    Generate a random instance of K-SAT\n",
    "    '''\n",
    "    return [random_clause(num_variables, k) for i in range(num_clauses)]\n",
    "\n",
    "def make_SAT_Hamiltonian(sat_instance, num_bits, pauli=Z):\n",
    "    '''Creates a Hamiltonian from a SAT instance. pauli specifies which\n",
    "    basis to use\n",
    "    '''    \n",
    "    H = np.zeros((2**num_bits, 2**num_bits))\n",
    "    for clause in sat_instance:\n",
    "        term_list = [I] * num_bits\n",
    "        for i in clause:\n",
    "            term_list[abs(i) - 1] = 0.5 * (I + pauli * np.sign(i))\n",
    "        H += reduce(np.kron, term_list)\n",
    "    return H"
   ]
  },
  {
   "cell_type": "code",
   "execution_count": null,
   "metadata": {},
   "outputs": [],
   "source": []
  },
  {
   "cell_type": "markdown",
   "metadata": {},
   "source": [
    "#### Putting it together and defining the initial state\n",
    "\n",
    "We define an \"easy\" Hamiltonian to be $H_0 = - \\sum X_i$. The ground state of this Hamiltonian is \n",
    "\n",
    "$$\n",
    "| + \\rangle = \\frac{1}{2^n} (1 \\dots 1)^T.\n",
    "$$"
   ]
  },
  {
   "cell_type": "code",
   "execution_count": 44,
   "metadata": {},
   "outputs": [],
   "source": [
    "n_qubits = 6\n",
    "\n",
    "ham_term = deque([X] + [I] * (n_qubits - 1))\n",
    "\n",
    "H_0 = np.zeros((2**n_qubits, 2**n_qubits), dtype=np.complex64)\n",
    "\n",
    "for i in range(n_qubits):\n",
    "    H_0 += (-0.5) * reduce(np.kron, ham_term)\n",
    "    ham_term.rotate(1)\n",
    "\n",
    "\n",
    "#H_1_dict = ising_model(n_qubits, 1, -0.1)\n",
    "#H_1 = explicit_hamiltonian(H_1_dict)\n",
    "\n",
    "sat_instance = random_SAT_instance(n_qubits, n_qubits * 4, k=3)\n",
    "H_1 = make_SAT_Hamiltonian(sat_instance, n_qubits)"
   ]
  },
  {
   "cell_type": "code",
   "execution_count": 45,
   "metadata": {},
   "outputs": [],
   "source": [
    "# Initial state is a Kronecker product of |+> = 1/ sqrt(2) * (|0> + |1>)\n",
    "total_plus_state = np.ones(2**n_qubits, dtype=np.complex64) / (2**n_qubits)**0.5"
   ]
  },
  {
   "cell_type": "markdown",
   "metadata": {},
   "source": [
    "### Define the system of differential equations"
   ]
  },
  {
   "cell_type": "code",
   "execution_count": 46,
   "metadata": {},
   "outputs": [],
   "source": [
    "def s_linear(t, alpha):\n",
    "    '''Adiabatic evolution strategy'''\n",
    "    if t < 0:\n",
    "        raise ValueError('Enter positive t')\n",
    "    elif t > 1 / alpha:\n",
    "        return 1\n",
    "    else:\n",
    "        return t * alpha      \n",
    "    \n",
    "def get_state_energy(s, t, y):\n",
    "    '''Energy of the state measured at time t'''\n",
    "    H = H_total(H_0, H_1, s(t))\n",
    "    return y.conj() @ H @ y\n",
    "\n",
    "def H_total(H_0, H_1, s_curr):\n",
    "    '''Hamiltonian at the parameter value s_curr'''\n",
    "    return (1 - s_curr) * H_0 + s_curr * H_1\n",
    "\n",
    "def make_f(H_0, H_1, s):\n",
    "    '''Create a system of differential equations'''\n",
    "    def f(t, y):\n",
    "        #H = (1 - s(t)) * H_0 + s(t) * H_1\n",
    "        H = H_total(H_0, H_1, s(t))\n",
    "        return -1j * H @ y\n",
    "    return f"
   ]
  },
  {
   "cell_type": "markdown",
   "metadata": {},
   "source": [
    "The parameter `alpha` controls the speed of changing the Hamiltonian. The smaller it is, the closer should the approximated energy be to the ground state energy. Try changing it or also try different trajectories of `s(t)` altogether."
   ]
  },
  {
   "cell_type": "code",
   "execution_count": 47,
   "metadata": {},
   "outputs": [],
   "source": [
    "alpha = 0.2\n",
    "\n",
    "def s(t):\n",
    "    '''Simple strategy of changing the Hamiltonian'''\n",
    "    return s_linear(t, alpha)\n",
    "\n",
    "f = make_f(H_0, H_1, s)"
   ]
  },
  {
   "cell_type": "markdown",
   "metadata": {},
   "source": [
    "### Run the solver"
   ]
  },
  {
   "cell_type": "code",
   "execution_count": 48,
   "metadata": {},
   "outputs": [],
   "source": [
    "sol = solve_ivp(f, [0, 1 / alpha], total_plus_state, max_step=0.2)"
   ]
  },
  {
   "cell_type": "code",
   "execution_count": 49,
   "metadata": {},
   "outputs": [],
   "source": [
    "exact_energies = []\n",
    "energies = []\n",
    "for i, t in enumerate(sol.t):\n",
    "    energies.append(get_state_energy(s, t, sol.y[:, i]).real)\n",
    "    H = H_total(H_0, H_1, s(t))\n",
    "    w, v = np.linalg.eigh(H)\n",
    "    exact_energies.append(w[0])"
   ]
  },
  {
   "cell_type": "code",
   "execution_count": 50,
   "metadata": {},
   "outputs": [
    {
     "data": {
      "image/png": "[encoded data removed]",
      "text/plain": [
       "<Figure size 432x288 with 1 Axes>"
      ]
     },
     "metadata": {
      "needs_background": "light"
     },
     "output_type": "display_data"
    }
   ],
   "source": [
    "plt.scatter(sol.t, energies, label='AQC')\n",
    "plt.plot(sol.t, exact_energies, label='Exact GS')\n",
    "plt.xlabel('t')\n",
    "plt.ylabel('Energy')\n",
    "plt.legend()\n",
    "plt.show()"
   ]
  },
  {
   "cell_type": "code",
   "execution_count": null,
   "metadata": {},
   "outputs": [],
   "source": []
  },
  {
   "cell_type": "code",
   "execution_count": null,
   "metadata": {},
   "outputs": [],
   "source": []
  },
  {
   "cell_type": "code",
   "execution_count": null,
   "metadata": {},
   "outputs": [],
   "source": []
  },
  {
   "cell_type": "code",
   "execution_count": null,
   "metadata": {},
   "outputs": [],
   "source": []
  },
  {
   "cell_type": "code",
   "execution_count": null,
   "metadata": {},
   "outputs": [],
   "source": []
  },
  {
   "cell_type": "code",
   "execution_count": null,
   "metadata": {},
   "outputs": [],
   "source": []
  },
  {
   "cell_type": "code",
   "execution_count": null,
   "metadata": {},
   "outputs": [],
   "source": []
  },
  {
   "cell_type": "code",
   "execution_count": null,
   "metadata": {},
   "outputs": [],
   "source": []
  },
  {
   "cell_type": "code",
   "execution_count": null,
   "metadata": {},
   "outputs": [],
   "source": []
  },
  {
   "cell_type": "code",
   "execution_count": null,
   "metadata": {},
   "outputs": [],
   "source": []
  },
  {
   "cell_type": "code",
   "execution_count": null,
   "metadata": {},
   "outputs": [],
   "source": []
  }
 ],
 "metadata": {
  "kernelspec": {
   "display_name": "myenv",
   "language": "python",
   "name": "myenv"
  },
  "language_info": {
   "codemirror_mode": {
    "name": "ipython",
    "version": 3
   },
   "file_extension": ".py",
   "mimetype": "text/x-python",
   "name": "python",
   "nbconvert_exporter": "python",
   "pygments_lexer": "ipython3",
   "version": "3.6.6"
  }
 },
 "nbformat": 4,
 "nbformat_minor": 2
}
